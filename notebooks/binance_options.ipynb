{
 "cells": [
  {
   "cell_type": "code",
   "execution_count": null,
   "id": "7f1839fe",
   "metadata": {},
   "outputs": [],
   "source": [
    "\n"
   ]
  },
  {
   "cell_type": "code",
   "execution_count": 2,
   "id": "d8c73bd2",
   "metadata": {},
   "outputs": [
    {
     "name": "stdout",
     "output_type": "stream",
     "text": [
      "{'BTC-251226-100000-P': <OrderBook BTC-251226-100000-P | bid=(3575.0, 4.81) ask=(3725.0, 5.19) spread=150.0>, 'BTC-251226-105000-P': <OrderBook BTC-251226-105000-P | bid=(4885.0, 5.07) ask=(5075.0, 5.55) spread=190.0>, 'BTC-251226-110000-P': <OrderBook BTC-251226-110000-P | bid=(6570.0, 4.95) ask=(6775.0, 5.1) spread=205.0>, 'BTC-251226-90000-P': <OrderBook BTC-251226-90000-P | bid=(1855.0, 4.63) ask=(1975.0, 7.84) spread=120.0>, 'BTC-251226-95000-P': <OrderBook BTC-251226-95000-P | bid=(2580.0, 5.0) ask=(2715.0, 6.02) spread=135.0>}\n"
     ]
    }
   ],
   "source": [
    "print(books)"
   ]
  }
 ],
 "metadata": {
  "kernelspec": {
   "display_name": "venv",
   "language": "python",
   "name": "python3"
  },
  "language_info": {
   "codemirror_mode": {
    "name": "ipython",
    "version": 3
   },
   "file_extension": ".py",
   "mimetype": "text/x-python",
   "name": "python",
   "nbconvert_exporter": "python",
   "pygments_lexer": "ipython3",
   "version": "3.13.2"
  }
 },
 "nbformat": 4,
 "nbformat_minor": 5
}
